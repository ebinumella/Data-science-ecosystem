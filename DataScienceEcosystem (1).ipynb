{
 "cells": [
  {
   "cell_type": "markdown",
   "id": "8f7fbb4d-d2d0-4822-be71-d468a596d79b",
   "metadata": {},
   "source": [
    "\n",
    "# Data Science Tools and Ecosystem"
   ]
  },
  {
   "cell_type": "markdown",
   "id": "2bf410d7-1550-4bee-916b-f43dd4060fdc",
   "metadata": {},
   "source": [
    "#### In this notebook, Data Science Tools and Ecosystem are summarized"
   ]
  },
  {
   "cell_type": "markdown",
   "id": "750b3778-68ba-4a95-ab1c-a94db488967c",
   "metadata": {},
   "source": [
    "#### **Objectives**\n",
    "+ List popular languages for Data Science\n",
    "+ List commonly used libraries used by Data Scientists\n",
    "+ Data Science Tools\n",
    "+ Evaluating arithmetic expressions in Python."
   ]
  },
  {
   "cell_type": "markdown",
   "id": "1eca0f44-55e6-4219-a57c-cff3e19f2b9f",
   "metadata": {},
   "source": [
    "##### Some of the popular languages that Data Scientists use are:\n",
    "1. Python\n",
    "2. SQL\n",
    "3. Java\n",
    "4. R"
   ]
  },
  {
   "cell_type": "markdown",
   "id": "f905d2e5-a06e-4b90-b6e3-c3007ddc2add",
   "metadata": {},
   "source": [
    "##### Some of the commonly used libraries used by Data Scientists include:\n",
    "- Scientific Computing libraries in python e.g Pandas\n",
    "- Visualization libraries in python e.g Matplotlib\n",
    "- Deep learning libraries e.g TensorFlow"
   ]
  },
  {
   "cell_type": "markdown",
   "id": "68938d20-66d9-4358-a0c9-5e2a530c733d",
   "metadata": {},
   "source": [
    "|Data Science Tools|\n",
    "|------------------|\n",
    "|Python|\n",
    "|Jupyter Notebook|\n",
    "|R|"
   ]
  },
  {
   "cell_type": "markdown",
   "id": "c16ef2df-d1c4-41af-8cd2-7f69bf31ec3a",
   "metadata": {},
   "source": [
    "### Below are a few examples of evaluating arithmetic expressions in Python"
   ]
  },
  {
   "cell_type": "code",
   "execution_count": 2,
   "id": "c5854ea9-bfaf-48dd-a582-5d73143a5a10",
   "metadata": {},
   "outputs": [
    {
     "data": {
      "text/plain": [
       "17"
      ]
     },
     "execution_count": 2,
     "metadata": {},
     "output_type": "execute_result"
    }
   ],
   "source": [
    "# This a simple arithmetic expression to mutiply then add integers\n",
    "(3*4)+5"
   ]
  },
  {
   "cell_type": "code",
   "execution_count": 3,
   "id": "c9078775-82ba-4818-9f51-eebd7fe8dd20",
   "metadata": {},
   "outputs": [
    {
     "data": {
      "text/plain": [
       "3.3333333333333335"
      ]
     },
     "execution_count": 3,
     "metadata": {},
     "output_type": "execute_result"
    }
   ],
   "source": [
    "# This will convert 200 minutes to hours by diving by 60.\n",
    "200 / 60"
   ]
  },
  {
   "cell_type": "markdown",
   "id": "84c17b4c-aef9-49d5-a146-e2746252ac63",
   "metadata": {},
   "source": [
    "## Author\n",
    "Emmanuella Ebinum"
   ]
  },
  {
   "cell_type": "code",
   "execution_count": null,
   "id": "99a1a401-92fb-4d70-b5ea-515d738d6cdf",
   "metadata": {},
   "outputs": [],
   "source": []
  }
 ],
 "metadata": {
  "kernelspec": {
   "display_name": "Python [conda env:base] *",
   "language": "python",
   "name": "conda-base-py"
  },
  "language_info": {
   "codemirror_mode": {
    "name": "ipython",
    "version": 3
   },
   "file_extension": ".py",
   "mimetype": "text/x-python",
   "name": "python",
   "nbconvert_exporter": "python",
   "pygments_lexer": "ipython3",
   "version": "3.12.7"
  }
 },
 "nbformat": 4,
 "nbformat_minor": 5
}
